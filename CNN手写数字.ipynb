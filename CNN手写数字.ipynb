{
 "cells": [
  {
   "cell_type": "code",
   "execution_count": 1,
   "metadata": {},
   "outputs": [],
   "source": [
    "import tensorflow as tf\n",
    "from tensorflow.keras.layers import *\n",
    "from tensorflow.keras.models import Sequential"
   ]
  },
  {
   "cell_type": "code",
   "execution_count": 3,
   "metadata": {},
   "outputs": [],
   "source": [
    "(x_train,y_train),(x_test,y_test)=tf.keras.datasets.mnist.load_data()\n",
    "x_train = x_train.reshape((-1,28,28,1))/255.0\n",
    "x_test = x_test.reshape((-1,28,28,1))/255.0\n",
    "y_train = tf.keras.utils.to_categorical(y_train, 10)\n",
    "y_test = tf.keras.utils.to_categorical(y_test, 10)\n"
   ]
  },
  {
   "cell_type": "code",
   "execution_count": 5,
   "metadata": {},
   "outputs": [
    {
     "name": "stdout",
     "output_type": "stream",
     "text": [
      "Train on 60000 samples\n",
      "Epoch 1/20\n",
      "60000/60000 [==============================] - 44s 726us/sample - loss: 0.1947 - accuracy: 0.9421\n",
      "Epoch 2/20\n",
      "60000/60000 [==============================] - 45s 745us/sample - loss: 0.0516 - accuracy: 0.9843\n",
      "Epoch 3/20\n",
      "60000/60000 [==============================] - 45s 744us/sample - loss: 0.0354 - accuracy: 0.9894\n",
      "Epoch 4/20\n",
      "60000/60000 [==============================] - 45s 745us/sample - loss: 0.0275 - accuracy: 0.9909\n",
      "Epoch 5/20\n",
      "60000/60000 [==============================] - 47s 787us/sample - loss: 0.0208 - accuracy: 0.9936\n",
      "Epoch 6/20\n",
      "60000/60000 [==============================] - 45s 755us/sample - loss: 0.0154 - accuracy: 0.9950\n",
      "Epoch 7/20\n",
      "60000/60000 [==============================] - 43s 718us/sample - loss: 0.0141 - accuracy: 0.9951\n",
      "Epoch 8/20\n",
      "60000/60000 [==============================] - 42s 695us/sample - loss: 0.0109 - accuracy: 0.9962\n",
      "Epoch 9/20\n",
      "60000/60000 [==============================] - 43s 722us/sample - loss: 0.0090 - accuracy: 0.9970\n",
      "Epoch 10/20\n",
      "60000/60000 [==============================] - 46s 773us/sample - loss: 0.0080 - accuracy: 0.9975\n",
      "Epoch 11/20\n",
      "60000/60000 [==============================] - 47s 787us/sample - loss: 0.0061 - accuracy: 0.9979\n",
      "Epoch 12/20\n",
      "60000/60000 [==============================] - 48s 799us/sample - loss: 0.0063 - accuracy: 0.9981\n",
      "Epoch 13/20\n",
      "60000/60000 [==============================] - 48s 807us/sample - loss: 0.0041 - accuracy: 0.9985\n",
      "Epoch 14/20\n",
      "60000/60000 [==============================] - 58s 961us/sample - loss: 0.0065 - accuracy: 0.9978\n",
      "Epoch 15/20\n",
      "60000/60000 [==============================] - 56s 926us/sample - loss: 0.0041 - accuracy: 0.9985\n",
      "Epoch 16/20\n",
      "60000/60000 [==============================] - 42s 706us/sample - loss: 0.0035 - accuracy: 0.9988\n",
      "Epoch 17/20\n",
      "60000/60000 [==============================] - 47s 787us/sample - loss: 0.0053 - accuracy: 0.9980\n",
      "Epoch 18/20\n",
      "60000/60000 [==============================] - 44s 727us/sample - loss: 0.0028 - accuracy: 0.9991\n",
      "Epoch 19/20\n",
      "60000/60000 [==============================] - 46s 767us/sample - loss: 0.0028 - accuracy: 0.9990\n",
      "Epoch 20/20\n",
      "60000/60000 [==============================] - 45s 757us/sample - loss: 0.0035 - accuracy: 0.9988\n",
      "10000/10000 [==============================] - 3s 293us/sample - loss: 0.0517 - accuracy: 0.9894\n",
      "[0.051725621027015334, 0.9894]\n"
     ]
    }
   ],
   "source": [
    "model = Sequential()\n",
    "model.add(Conv2D(32,(3,3),activation='relu',padding='same', input_shape=((28,28,1))))\n",
    "model.add(MaxPool2D(2))\n",
    "model.add(Conv2D(64,(3,3),activation='relu',padding='same'))\n",
    "model.add(MaxPool2D(2))\n",
    "model.add(Flatten())\n",
    "model.add(Dense(128,activation='relu'))\n",
    "model.add(Dense(10,activation='softmax'))\n",
    "model.compile(optimizer=tf.keras.optimizers.Adam(),\n",
    "             loss=tf.keras.losses.categorical_crossentropy,metrics=['accuracy'])\n",
    "model.fit(x_train,y_train,batch_size=128,epochs=20)\n",
    "print(model.evaluate(x_test, y_test))"
   ]
  },
  {
   "cell_type": "code",
   "execution_count": null,
   "metadata": {},
   "outputs": [],
   "source": []
  },
  {
   "cell_type": "code",
   "execution_count": null,
   "metadata": {},
   "outputs": [],
   "source": []
  }
 ],
 "metadata": {
  "kernelspec": {
   "display_name": "TensorFlow2",
   "language": "python",
   "name": "tensorflow"
  },
  "language_info": {
   "codemirror_mode": {
    "name": "ipython",
    "version": 3
   },
   "file_extension": ".py",
   "mimetype": "text/x-python",
   "name": "python",
   "nbconvert_exporter": "python",
   "pygments_lexer": "ipython3",
   "version": "3.7.7"
  }
 },
 "nbformat": 4,
 "nbformat_minor": 5
}
